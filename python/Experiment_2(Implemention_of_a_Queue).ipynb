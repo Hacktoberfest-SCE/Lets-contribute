{
 "cells": [
  {
   "cell_type": "code",
   "execution_count": 3,
   "metadata": {
    "colab": {},
    "colab_type": "code",
    "id": "i4VFS1bmDyDJ"
   },
   "outputs": [],
   "source": [
    "queue = []\n",
    "\n",
    "def isEmpty():\n",
    "  return queue==[]\n",
    "\n",
    "def enqueue(item):\n",
    "  return queue.append(item)\n",
    "\n",
    "def dequeue():\n",
    "  first = queue[0]\n",
    "  del queue[0]\n",
    "  return first\n",
    "\n",
    "def find(item):\n",
    "  for i in range(len(queue)):\n",
    "    if item in queue:\n",
    "      return (len(queue)-i)-1\n",
    "    else:\n",
    "      return -1\n",
    "\n",
    "def delete(item):\n",
    "  for i in range(len(queue)):\n",
    "    if item in queue:\n",
    "      queue.remove(item)\n",
    "      return True\n",
    "    else:\n",
    "      return False"
   ]
  },
  {
   "cell_type": "code",
   "execution_count": 4,
   "metadata": {
    "colab": {
     "base_uri": "https://localhost:8080/",
     "height": 119
    },
    "colab_type": "code",
    "id": "WDigjct2faTP",
    "outputId": "70dc2e82-92ab-424e-d3e8-5b6ba5213cbb"
   },
   "outputs": [
    {
     "name": "stdout",
     "output_type": "stream",
     "text": [
      "Original Queue:  [2, 3, 4, 5]\n",
      "Removed:  2\n",
      "Queue after dequeue:  [3, 4, 5]\n",
      "Find '5':  2\n",
      "Find '6':  -1\n",
      "Queue after delete '4':  [3, 5]\n"
     ]
    }
   ],
   "source": [
    "enqueue(2)\n",
    "enqueue(3)\n",
    "enqueue(4)\n",
    "enqueue(5)\n",
    "print(\"Original Queue: \",queue)\n",
    "removed = dequeue()\n",
    "print(\"Removed: \",removed)\n",
    "print(\"Queue after dequeue: \",queue)\n",
    "print(\"Find '5': \",find(5))\n",
    "print(\"Find '6': \",find(6))\n",
    "delete(4)\n",
    "print(\"Queue after delete '4': \",queue)"
   ]
  },
  {
   "cell_type": "code",
   "execution_count": null,
   "metadata": {
    "colab": {},
    "colab_type": "code",
    "id": "Tz1JCF0kffmj"
   },
   "outputs": [],
   "source": []
  }
 ],
 "metadata": {
  "colab": {
   "collapsed_sections": [],
   "name": "Experiment 2(Implemention of a Queue).ipynb",
   "provenance": []
  },
  "kernelspec": {
   "display_name": "Python 3",
   "language": "python",
   "name": "python3"
  },
  "language_info": {
   "codemirror_mode": {
    "name": "ipython",
    "version": 3
   },
   "file_extension": ".py",
   "mimetype": "text/x-python",
   "name": "python",
   "nbconvert_exporter": "python",
   "pygments_lexer": "ipython3",
   "version": "3.7.4"
  }
 },
 "nbformat": 4,
 "nbformat_minor": 1
}
